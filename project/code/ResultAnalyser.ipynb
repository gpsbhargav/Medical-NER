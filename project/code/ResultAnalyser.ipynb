{
 "cells": [
  {
   "cell_type": "code",
   "execution_count": 1,
   "metadata": {},
   "outputs": [],
   "source": [
    "from sklearn import metrics\n",
    "import matplotlib.pyplot as plt\n",
    "import numpy as np\n",
    "import itertools\n",
    "from collections import Counter\n",
    "import dill as pickle\n",
    "import os"
   ]
  },
  {
   "cell_type": "code",
   "execution_count": 2,
   "metadata": {},
   "outputs": [],
   "source": [
    "STORE_RESULTS = True\n",
    "pkl_name = \"21.pkl\"\n",
    "pkl_path = \"../output_objects/\"\n",
    "gt_file = \"../test_gold.txt\"\n",
    "pred_file = \"../output_data/temp.txt\""
   ]
  },
  {
   "cell_type": "code",
   "execution_count": 3,
   "metadata": {},
   "outputs": [],
   "source": [
    "class Token:\n",
    "    def __init__(self, features=None,label=None):\n",
    "        if(features == None):\n",
    "            self.features = []\n",
    "        else:\n",
    "            self.features = features\n",
    "        self.label = label\n",
    "    \n",
    "    def add_feature(self,feature):\n",
    "        self.features.append(feature)\n",
    "    \n",
    "    def get_string(self,label=True):\n",
    "        s = \" \".join(self.features)\n",
    "        if(label):\n",
    "            s = s + \" \" + self.label\n",
    "        s = s + \"\\n\"\n",
    "        return s\n",
    "\n",
    "class Sentence:\n",
    "    def __init__(self,tokens=None):\n",
    "        if(tokens == None):\n",
    "            self.tokens = []\n",
    "        else:\n",
    "            self.tokens = tokens\n",
    "\n",
    "    def add_token(self,token):\n",
    "        #print(\"Before appending: \",self.get_in_format())\n",
    "        self.tokens.append(token)\n",
    "\n",
    "    def get_num_tokens(self):\n",
    "        return len(self.tokens)\n",
    "    \n",
    "    def get_labels(self):\n",
    "        labels = []\n",
    "        for token in self.tokens:\n",
    "            labels.append(token.label)\n",
    "        return labels\n",
    "    \n",
    "    def get_words_str(self):\n",
    "        words = []\n",
    "        for token in self.tokens:\n",
    "            words.append(token.features[0])\n",
    "        return \" \".join(words)\n",
    "    \n",
    "    \n",
    "    def get_in_format(self,label=True,new_line=True):\n",
    "        sent_list = []\n",
    "        for token in self.tokens:\n",
    "            token_string = token.get_string(label=label)\n",
    "            sent_list.append(token_string)\n",
    "        if(new_line):\n",
    "            sent_list.append('\\n')\n",
    "        return sent_list"
   ]
  },
  {
   "cell_type": "code",
   "execution_count": 4,
   "metadata": {},
   "outputs": [],
   "source": [
    "def read_gt_file(path,label=True):\n",
    "    data = []\n",
    "    count = 0\n",
    "    lines = []\n",
    "    sentence = Sentence()\n",
    "    with open(path,'r',encoding='latin1') as f:\n",
    "        for line in f:\n",
    "            if(line == '\\n'):\n",
    "                count += 1\n",
    "                #if(sentence.get_num_tokens() > 0):\n",
    "                data.append(sentence)\n",
    "                sentence = Sentence()\n",
    "                #print(\"new sentence created: \",sentence)\n",
    "                #print(sentence.get_in_format())\n",
    "            else:\n",
    "                token = []\n",
    "                contents = line.split()\n",
    "                #print(contents)\n",
    "                if(label):\n",
    "                    token = Token(contents[:-1],contents[-1])\n",
    "                else:\n",
    "                    token = Token(contents)\n",
    "\n",
    "                #print(token.features)\n",
    "                #print(token.label)\n",
    "                #print(token.get_string(True))\n",
    "                sentence.add_token(token)\n",
    "                #print(\"sentence contents: \",sentence.get_in_format())\n",
    "            \n",
    "    print(\"Number of sentences: \",count)\n",
    "    return data"
   ]
  },
  {
   "cell_type": "code",
   "execution_count": 5,
   "metadata": {},
   "outputs": [],
   "source": [
    "def pickler(path,pkl_name,obj):\n",
    "    with open(os.path.join(path, pkl_name), 'wb') as f:\n",
    "        pickle.dump(obj, f, pickle.HIGHEST_PROTOCOL)\n",
    "\n",
    "def unpickler(path,pkl_name):\n",
    "    with open(os.path.join(path, pkl_name) ,'rb') as f:\n",
    "        obj = pickle.load(f)\n",
    "    return obj"
   ]
  },
  {
   "cell_type": "code",
   "execution_count": null,
   "metadata": {},
   "outputs": [],
   "source": [
    "def read_result_file(path,per_sent=False):\n",
    "    predictions = []\n",
    "    if(not per_sent):\n",
    "        with open(path,'r',encoding='utf8') as f:\n",
    "            for line in f:\n",
    "                if(line != '\\n'):\n",
    "                    predictions.append(line.split()[0])\n",
    "    else:\n",
    "        sent_preds = []\n",
    "        with open(path,'r',encoding='utf8') as f:\n",
    "            for line in f:\n",
    "                if(line != '\\n'):\n",
    "                    sent_preds.append(line.split()[0])\n",
    "                else:\n",
    "                    predictions.append(sent_preds)\n",
    "                    sent_preds = []\n",
    "    return predictions"
   ]
  },
  {
   "cell_type": "code",
   "execution_count": null,
   "metadata": {},
   "outputs": [],
   "source": [
    "def get_true_labels(gold,per_sent=False):\n",
    "    true_labels = []\n",
    "    if(not per_sent):\n",
    "        for item in gold:\n",
    "            true_labels += item.get_labels()\n",
    "    else:\n",
    "        for item in gold:\n",
    "            true_labels.append(item.get_labels())\n",
    "    return true_labels"
   ]
  },
  {
   "cell_type": "code",
   "execution_count": null,
   "metadata": {},
   "outputs": [],
   "source": [
    "def compute_accuracies(true_labels,predictions):\n",
    "    #target_names = ['O', 'D', 'T']\n",
    "    report = metrics.classification_report(true_labels,predictions)#,target_names=target_names)\n",
    "    return report"
   ]
  },
  {
   "cell_type": "code",
   "execution_count": null,
   "metadata": {},
   "outputs": [],
   "source": [
    "def get_sentences(gold):\n",
    "    sentences = []\n",
    "    for sent in gold:\n",
    "        sentences.append(sent.get_in_format(label=False,new_line=False))\n",
    "    return sentences"
   ]
  },
  {
   "cell_type": "code",
   "execution_count": null,
   "metadata": {},
   "outputs": [],
   "source": [
    "def get_correct_and_incorrect(sentences,gold_labels,predictions):\n",
    "    incorrect = []\n",
    "    correct = []\n",
    "    for i in range(len(gold_labels)):\n",
    "        #print(gold_labels[i],predictions[i])\n",
    "        if(gold_labels[i] != predictions[i]):\n",
    "            incorrect.append([i,sentences[i], gold_labels[i], predictions[i]])\n",
    "        else:\n",
    "            correct.append([i,sentences[i], gold_labels[i], predictions[i]])\n",
    "    return correct,incorrect"
   ]
  },
  {
   "cell_type": "code",
   "execution_count": null,
   "metadata": {},
   "outputs": [],
   "source": [
    "def store_results(pkl_path,pkl_name,sentences,gold_labels,predictions,correct,incorrect):\n",
    "    d = {\n",
    "        'sentences':sentences,\n",
    "        'gold_labels':gold_labels,\n",
    "        'predictions':predictions,\n",
    "        'correct':correct,\n",
    "        'incorrect':incorrect\n",
    "        }\n",
    "    pickler(pkl_path,pkl_name,d)"
   ]
  },
  {
   "cell_type": "code",
   "execution_count": null,
   "metadata": {},
   "outputs": [],
   "source": [
    "gold = read_gt_file(gt_file)"
   ]
  },
  {
   "cell_type": "code",
   "execution_count": null,
   "metadata": {},
   "outputs": [],
   "source": [
    "predictions = read_result_file(pred_file)"
   ]
  },
  {
   "cell_type": "code",
   "execution_count": null,
   "metadata": {},
   "outputs": [],
   "source": [
    "true_labels = get_true_labels(gold)"
   ]
  },
  {
   "cell_type": "code",
   "execution_count": null,
   "metadata": {},
   "outputs": [],
   "source": [
    "if STORE_RESULTS:\n",
    "    sentences = get_sentences(gold)\n",
    "    gold_labels = get_true_labels(gold,per_sent=True)\n",
    "    sent_preds = read_result_file(pred_file,per_sent=True)\n",
    "    correct,incorrect = get_correct_and_incorrect(sentences,gold_labels,sent_preds)\n",
    "    store_results(pkl_path,pkl_name,sentences,gold_labels,sent_preds,correct,incorrect)"
   ]
  },
  {
   "cell_type": "code",
   "execution_count": null,
   "metadata": {
    "scrolled": false
   },
   "outputs": [],
   "source": [
    "print(\"classification report:\")\n",
    "print(compute_accuracies(true_labels,predictions))"
   ]
  },
  {
   "cell_type": "code",
   "execution_count": null,
   "metadata": {},
   "outputs": [],
   "source": [
    "print(\"Accuracy: \",metrics.accuracy_score(true_labels,predictions))"
   ]
  },
  {
   "cell_type": "code",
   "execution_count": null,
   "metadata": {},
   "outputs": [],
   "source": [
    "cnf_matrix = metrics.confusion_matrix(true_labels,predictions)"
   ]
  },
  {
   "cell_type": "code",
   "execution_count": null,
   "metadata": {},
   "outputs": [],
   "source": [
    "def plot_confusion_matrix(cm, classes,\n",
    "                          normalize=False,\n",
    "                          title='Confusion matrix',\n",
    "                          cmap=plt.cm.Blues):\n",
    "    \"\"\"\n",
    "    This function prints and plots the confusion matrix.\n",
    "    Normalization can be applied by setting `normalize=True`.\n",
    "    \"\"\"\n",
    "    if normalize:\n",
    "        cm = cm.astype('float') / cm.sum(axis=1)[:, np.newaxis]\n",
    "        print(\"Normalized confusion matrix\")\n",
    "    else:\n",
    "        print('Confusion matrix, without normalization')\n",
    "\n",
    "    print(cm)\n",
    "\n",
    "    plt.imshow(cm, interpolation='nearest', cmap=cmap)\n",
    "    plt.title(title)\n",
    "    plt.colorbar()\n",
    "    tick_marks = np.arange(len(classes))\n",
    "    plt.xticks(tick_marks, classes, rotation=45)\n",
    "    plt.yticks(tick_marks, classes)\n",
    "\n",
    "    fmt = '.2f' if normalize else 'd'\n",
    "    thresh = cm.max() / 2.\n",
    "    for i, j in itertools.product(range(cm.shape[0]), range(cm.shape[1])):\n",
    "        plt.text(j, i, format(cm[i, j], fmt),\n",
    "                 horizontalalignment=\"center\",\n",
    "                 color=\"white\" if cm[i, j] > thresh else \"black\")\n",
    "\n",
    "    plt.tight_layout()\n",
    "    plt.ylabel('True label')\n",
    "    plt.xlabel('Predicted label')\n",
    "\n",
    "plt.figure()\n",
    "class_names = ['D','O','T']\n",
    "plot_confusion_matrix(cnf_matrix, classes=class_names,\n",
    "                      title='Confusion matrix, without normalization')\n",
    "\n",
    "# Plot normalized confusion matrix\n",
    "plt.figure()\n",
    "plot_confusion_matrix(cnf_matrix, classes=class_names, normalize=True,\n",
    "                      title='Normalized confusion matrix')\n",
    "\n",
    "plt.show()"
   ]
  },
  {
   "cell_type": "code",
   "execution_count": null,
   "metadata": {},
   "outputs": [],
   "source": [
    "print(\"Counts of predicted labels: \",Counter(predictions))"
   ]
  },
  {
   "cell_type": "code",
   "execution_count": null,
   "metadata": {},
   "outputs": [],
   "source": []
  }
 ],
 "metadata": {
  "kernelspec": {
   "display_name": "Python 3",
   "language": "python",
   "name": "python3"
  },
  "language_info": {
   "codemirror_mode": {
    "name": "ipython",
    "version": 3
   },
   "file_extension": ".py",
   "mimetype": "text/x-python",
   "name": "python",
   "nbconvert_exporter": "python",
   "pygments_lexer": "ipython3",
   "version": "3.6.4"
  }
 },
 "nbformat": 4,
 "nbformat_minor": 2
}
