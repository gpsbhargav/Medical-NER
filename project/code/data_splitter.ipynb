{
 "cells": [
  {
   "cell_type": "code",
   "execution_count": 1,
   "metadata": {},
   "outputs": [],
   "source": [
    "from tqdm import tqdm\n",
    "from random import shuffle"
   ]
  },
  {
   "cell_type": "code",
   "execution_count": 2,
   "metadata": {},
   "outputs": [],
   "source": [
    "class Token:\n",
    "    def __init__(self, features=None,label=None):\n",
    "        if(features == None):\n",
    "            self.features = []\n",
    "        else:\n",
    "            self.features = features\n",
    "        self.label = label\n",
    "    \n",
    "    def add_feature(self,feature):\n",
    "        self.features.append(feature)\n",
    "    \n",
    "    def get_string(self,label=True):\n",
    "        s = \" \".join(self.features)\n",
    "        if(label):\n",
    "            s = s + \" \" + self.label\n",
    "        s = s + \"\\n\"\n",
    "        return s\n",
    "\n",
    "class Sentence:\n",
    "    def __init__(self,tokens=None):\n",
    "        if(tokens == None):\n",
    "            self.tokens = []\n",
    "        else:\n",
    "            self.tokens = tokens\n",
    "\n",
    "    def add_token(self,token):\n",
    "        #print(\"Before appending: \",self.get_in_format())\n",
    "        self.tokens.append(token)\n",
    "\n",
    "    def get_num_tokens(self):\n",
    "        return len(self.tokens)\n",
    "    \n",
    "    def get_in_format(self,label=True):\n",
    "        sent_list = []\n",
    "        for token in self.tokens:\n",
    "            token_string = token.get_string(label=label)\n",
    "            sent_list.append(token_string)\n",
    "        sent_list.append('\\n')\n",
    "        return sent_list"
   ]
  },
  {
   "cell_type": "code",
   "execution_count": 3,
   "metadata": {},
   "outputs": [],
   "source": [
    "def read_train_file(path,label=True):\n",
    "    data = []\n",
    "    count = 0\n",
    "    lines = []\n",
    "    sentence = Sentence()\n",
    "    with open(path,'r',encoding='latin1') as f:\n",
    "        for line in f:\n",
    "            if(line == '\\n'):\n",
    "                count += 1\n",
    "                #if(sentence.get_num_tokens() > 0):\n",
    "                data.append(sentence)\n",
    "                sentence = Sentence()\n",
    "                #print(\"new sentence created: \",sentence)\n",
    "                #print(sentence.get_in_format())\n",
    "            else:\n",
    "                token = []\n",
    "                contents = line.split()\n",
    "                #print(contents)\n",
    "                if(label):\n",
    "                    token = Token(contents[:-1],contents[-1])\n",
    "                else:\n",
    "                    token = Token(contents)\n",
    "\n",
    "                #print(token.features)\n",
    "                #print(token.label)\n",
    "                #print(token.get_string(True))\n",
    "                sentence.add_token(token)\n",
    "                #print(\"sentence contents: \",sentence.get_in_format())\n",
    "            \n",
    "    print(\"Number of sentences: \",count)\n",
    "    return data"
   ]
  },
  {
   "cell_type": "code",
   "execution_count": 4,
   "metadata": {},
   "outputs": [],
   "source": [
    "def write_file(data,path,label=True):\n",
    "    with open(path,'w+',encoding='latin1') as f:\n",
    "        for sentence in tqdm(data):\n",
    "            f.writelines(sentence.get_in_format(label))\n",
    "            #print(sentence.get_in_format(label))\n",
    "        "
   ]
  },
  {
   "cell_type": "code",
   "execution_count": 5,
   "metadata": {},
   "outputs": [
    {
     "name": "stdout",
     "output_type": "stream",
     "text": [
      "Number of sentences:  3655\n"
     ]
    }
   ],
   "source": [
    "all_data = read_train_file(\"ner.txt\")"
   ]
  },
  {
   "cell_type": "code",
   "execution_count": 6,
   "metadata": {},
   "outputs": [
    {
     "data": {
      "text/plain": [
       "['Abnormal O\\n',\n",
       " 'presentation O\\n',\n",
       " 'was O\\n',\n",
       " 'the O\\n',\n",
       " 'most O\\n',\n",
       " 'common O\\n',\n",
       " 'indication O\\n',\n",
       " '( O\\n',\n",
       " '25.6 O\\n',\n",
       " '% O\\n',\n",
       " ', O\\n',\n",
       " '88 O\\n',\n",
       " 'of O\\n',\n",
       " '344 O\\n',\n",
       " ') O\\n',\n",
       " '\\n']"
      ]
     },
     "execution_count": 6,
     "metadata": {},
     "output_type": "execute_result"
    }
   ],
   "source": [
    "all_data[2].get_in_format()"
   ]
  },
  {
   "cell_type": "code",
   "execution_count": 7,
   "metadata": {},
   "outputs": [
    {
     "data": {
      "text/plain": [
       "3655"
      ]
     },
     "execution_count": 7,
     "metadata": {},
     "output_type": "execute_result"
    }
   ],
   "source": [
    "len(all_data)"
   ]
  },
  {
   "cell_type": "code",
   "execution_count": 8,
   "metadata": {},
   "outputs": [],
   "source": [
    "train_size = 0.8"
   ]
  },
  {
   "cell_type": "code",
   "execution_count": 9,
   "metadata": {},
   "outputs": [],
   "source": [
    "shuffle(all_data)"
   ]
  },
  {
   "cell_type": "code",
   "execution_count": 10,
   "metadata": {},
   "outputs": [],
   "source": [
    "data_len = len(all_data)\n",
    "train_index = int(data_len*train_size)\n",
    "training_data = all_data[:train_index]\n",
    "testing_data = all_data[train_index:]"
   ]
  },
  {
   "cell_type": "code",
   "execution_count": 11,
   "metadata": {},
   "outputs": [
    {
     "name": "stdout",
     "output_type": "stream",
     "text": [
      "train data size:  2924\n",
      "test data size:  731\n"
     ]
    }
   ],
   "source": [
    "print(\"train data size: \",len(training_data))\n",
    "print(\"test data size: \",len(testing_data))"
   ]
  },
  {
   "cell_type": "code",
   "execution_count": 12,
   "metadata": {},
   "outputs": [
    {
     "name": "stderr",
     "output_type": "stream",
     "text": [
      "100%|██████████| 2924/2924 [00:00<00:00, 35926.25it/s]\n"
     ]
    }
   ],
   "source": [
    "write_file(training_data,\"train.txt\")"
   ]
  },
  {
   "cell_type": "code",
   "execution_count": 13,
   "metadata": {},
   "outputs": [
    {
     "name": "stderr",
     "output_type": "stream",
     "text": [
      "100%|██████████| 731/731 [00:00<00:00, 29340.62it/s]\n"
     ]
    }
   ],
   "source": [
    "write_file(testing_data,\"test_gold.txt\")"
   ]
  },
  {
   "cell_type": "code",
   "execution_count": 14,
   "metadata": {},
   "outputs": [
    {
     "name": "stderr",
     "output_type": "stream",
     "text": [
      "100%|██████████| 731/731 [00:00<00:00, 34351.81it/s]\n"
     ]
    }
   ],
   "source": [
    "write_file(testing_data,\"test.txt\",label=False)"
   ]
  },
  {
   "cell_type": "code",
   "execution_count": null,
   "metadata": {},
   "outputs": [],
   "source": []
  },
  {
   "cell_type": "code",
   "execution_count": null,
   "metadata": {},
   "outputs": [],
   "source": []
  }
 ],
 "metadata": {
  "kernelspec": {
   "display_name": "Python 3",
   "language": "python",
   "name": "python3"
  },
  "language_info": {
   "codemirror_mode": {
    "name": "ipython",
    "version": 3
   },
   "file_extension": ".py",
   "mimetype": "text/x-python",
   "name": "python",
   "nbconvert_exporter": "python",
   "pygments_lexer": "ipython3",
   "version": "3.6.4"
  }
 },
 "nbformat": 4,
 "nbformat_minor": 2
}
