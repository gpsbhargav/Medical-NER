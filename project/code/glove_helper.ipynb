{
 "cells": [
  {
   "cell_type": "code",
   "execution_count": 1,
   "metadata": {},
   "outputs": [],
   "source": [
    "import dill as pickle\n",
    "import os\n",
    "import numpy as np"
   ]
  },
  {
   "cell_type": "code",
   "execution_count": 2,
   "metadata": {},
   "outputs": [],
   "source": [
    "class DataUtils:\n",
    "    def read_file(self,path,encoding='utf-8'):\n",
    "        data_path = path\n",
    "        f = codecs.open(data_path, encoding=encoding)\n",
    "        raw_data = f.read()\n",
    "        f.close()\n",
    "        return raw_data\n",
    "    \n",
    "    def get_test_train_split(self,text,train_fraction):\n",
    "        words = text.split()\n",
    "        train_index = max(1,math.floor(train_fraction*len(words)))\n",
    "        training_data = \" \".join(words[:train_index])\n",
    "        testing_data = \" \".join(words[train_index:])\n",
    "        return training_data,testing_data\n",
    "    \n",
    "    def pickler(self,path,pkl_name,obj):\n",
    "        with open(os.path.join(path, pkl_name), 'wb') as f:\n",
    "            pickle.dump(obj, f, pickle.HIGHEST_PROTOCOL)\n",
    "\n",
    "    def unpickler(self,path,pkl_name):\n",
    "        with open(os.path.join(path, pkl_name) ,'rb') as f:\n",
    "            obj = pickle.load(f)\n",
    "        return obj"
   ]
  },
  {
   "cell_type": "code",
   "execution_count": 3,
   "metadata": {},
   "outputs": [],
   "source": [
    "GLOVE_DIR = '/home/gpsbhargav/Downloads/glove/'\n",
    "gloves = \"glove.6B.100d.txt  glove.6B.200d.txt  glove.6B.300d.txt  glove.6B.50d.txt  glove.840B.300d.txt\".split()"
   ]
  },
  {
   "cell_type": "code",
   "execution_count": 4,
   "metadata": {},
   "outputs": [],
   "source": [
    "embeddings_index = {}\n",
    "with open(os.path.join(GLOVE_DIR, 'glove.6B.100d.txt'),encoding='utf8') as f:\n",
    "    for line in f:\n",
    "        values = line.split()\n",
    "        word = values[0]\n",
    "        coefs = np.asarray(values[1:], dtype='float32')\n",
    "        embeddings_index[word] = coefs"
   ]
  },
  {
   "cell_type": "code",
   "execution_count": 5,
   "metadata": {},
   "outputs": [],
   "source": [
    "pkl_dir = '/home/gpsbhargav/NLU/assignment3/project/resources/'\n",
    "pkl_name = 'glove.6B.100d.pkl'"
   ]
  },
  {
   "cell_type": "code",
   "execution_count": 6,
   "metadata": {},
   "outputs": [],
   "source": [
    "data_utils = DataUtils()"
   ]
  },
  {
   "cell_type": "code",
   "execution_count": 7,
   "metadata": {},
   "outputs": [],
   "source": [
    "data_utils.pickler(pkl_dir,pkl_name,embeddings_index)"
   ]
  },
  {
   "cell_type": "code",
   "execution_count": 8,
   "metadata": {},
   "outputs": [
    {
     "data": {
      "text/plain": [
       "array([-0.93126 , -0.47668 ,  0.20478 , -0.74569 , -0.081339,  0.091327,\n",
       "        0.18756 , -1.2133  ,  0.89945 , -1.1961  ,  0.45008 ,  0.61927 ,\n",
       "        0.32131 ,  0.1866  ,  0.11279 , -0.38253 , -0.2914  , -0.068553,\n",
       "       -0.43396 ,  1.2259  , -0.66049 , -0.68743 ,  0.32049 ,  0.49756 ,\n",
       "       -0.074038, -0.29454 , -0.6448  , -0.31421 , -0.63002 ,  0.39148 ,\n",
       "        0.56551 ,  1.1482  ,  0.27429 ,  0.62829 ,  0.88506 ,  0.58745 ,\n",
       "        0.036079,  0.43726 ,  0.57047 , -0.90228 ,  0.33128 , -0.28682 ,\n",
       "       -0.042514, -0.090087, -0.367   ,  0.4753  , -0.50486 , -0.68563 ,\n",
       "        0.37369 , -0.55541 , -0.06255 , -0.20406 ,  0.34019 , -0.84307 ,\n",
       "        0.19384 , -1.1795  , -0.38763 ,  0.3942  ,  0.69071 ,  0.35383 ,\n",
       "        0.14175 , -0.18036 , -0.29596 ,  0.62947 ,  0.15188 ,  0.23761 ,\n",
       "       -0.65641 ,  0.50627 ,  0.37567 ,  0.41094 ,  0.16233 ,  0.22615 ,\n",
       "       -0.49085 , -0.42319 , -0.36753 ,  0.54583 , -0.97418 ,  0.95735 ,\n",
       "       -0.11488 , -0.48423 ,  0.6793  , -0.19286 , -0.071532,  0.2029  ,\n",
       "       -0.62646 ,  0.91182 , -0.28109 , -0.72136 ,  0.15561 , -0.082532,\n",
       "        0.34302 ,  1.303   , -0.037666,  0.16762 ,  0.20159 , -0.35076 ,\n",
       "       -0.29872 , -0.31084 ,  1.1249  , -0.50026 ], dtype=float32)"
      ]
     },
     "execution_count": 8,
     "metadata": {},
     "output_type": "execute_result"
    }
   ],
   "source": [
    "embeddings_index['mac']"
   ]
  }
 ],
 "metadata": {
  "kernelspec": {
   "display_name": "Python 3",
   "language": "python",
   "name": "python3"
  },
  "language_info": {
   "codemirror_mode": {
    "name": "ipython",
    "version": 3
   },
   "file_extension": ".py",
   "mimetype": "text/x-python",
   "name": "python",
   "nbconvert_exporter": "python",
   "pygments_lexer": "ipython3",
   "version": "3.6.4"
  }
 },
 "nbformat": 4,
 "nbformat_minor": 2
}
